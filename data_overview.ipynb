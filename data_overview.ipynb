{
 "cells": [
  {
   "cell_type": "code",
   "execution_count": 3,
   "metadata": {},
   "outputs": [],
   "source": [
    "import pandas as pd\n",
    "import numpy as np\n",
    "from utils import MusicDataLoader\n",
    "from collections import Counter\n",
    "\n",
    "loader = MusicDataLoader()\n",
    "mus_nodes = loader.get_features(n_release_bins=100)\n",
    "\n"
   ]
  },
  {
   "cell_type": "markdown",
   "metadata": {},
   "source": [
    "Quick look at dataset distribution"
   ]
  },
  {
   "cell_type": "code",
   "execution_count": 4,
   "metadata": {},
   "outputs": [
    {
     "name": "stdout",
     "output_type": "stream",
     "text": [
      "Collected release data between 1890-01-01 00:00:00 and 2020-12-31 00:00:00\n",
      "3031 genres available in dataset\n"
     ]
    }
   ],
   "source": [
    "print(f'Collected release data between {pd.to_datetime(mus_nodes.first_release).min()} and {pd.to_datetime(mus_nodes.last_release).max()}')\n",
    "# print\n",
    "genrecounts = Counter([g for gg in mus_nodes.genres.values.tolist() for g in gg])\n",
    "\n",
    "print(f'{len(genrecounts)} genres available in dataset')\n",
    "# print(f'')"
   ]
  },
  {
   "cell_type": "markdown",
   "metadata": {},
   "source": [
    "Ok cool, what are our genre distributions looking like then?"
   ]
  },
  {
   "cell_type": "code",
   "execution_count": 26,
   "metadata": {},
   "outputs": [
    {
     "data": {
      "image/png": "[encoded data removed]",
      "text/plain": [
       "<Figure size 360x360 with 1 Axes>"
      ]
     },
     "metadata": {
      "needs_background": "light"
     },
     "output_type": "display_data"
    }
   ],
   "source": [
    "import seaborn as sns\n",
    "import matplotlib\n",
    "import matplotlib.pyplot as plt\n",
    "\n",
    "plt.figure(figsize=(5,5))\n",
    "\n",
    "fig = sns.histplot(data=mus_nodes,x='num_release')\n",
    "fig.set(\n",
    "    xscale='log',\n",
    "    xlabel='Number of Releases',\n",
    "    ylabel='Number of musicians',\n",
    "    # showxticks=''\n",
    ")\n",
    "\n",
    "fig.get_xaxis().set_major_formatter(matplotlib.ticker.ScalarFormatter())\n",
    "fig.get_figure().savefig('pics/features/release_distribution.png',dpi=300)\n",
    "\n",
    "# sorted(list(Counter(mus_nodes.num_release.values).items()))"
   ]
  },
  {
   "cell_type": "code",
   "execution_count": 35,
   "metadata": {},
   "outputs": [
    {
     "data": {
      "text/plain": [
       "0.42162248228644217"
      ]
     },
     "execution_count": 35,
     "metadata": {},
     "output_type": "execute_result"
    }
   ],
   "source": [
    "released_any = mus_nodes[mus_nodes.num_release > 0]\n",
    "\n",
    "(released_any.num_release <= 3).sum()/len(released_any)"
   ]
  },
  {
   "cell_type": "code",
   "execution_count": 34,
   "metadata": {},
   "outputs": [
    {
     "data": {
      "image/png": "[encoded data removed]",
      "text/plain": [
       "<Figure size 432x288 with 1 Axes>"
      ]
     },
     "metadata": {
      "needs_background": "light"
     },
     "output_type": "display_data"
    }
   ],
   "source": [
    "fig = sns.histplot(data=released_any,x='num_release')\n",
    "fig.set(\n",
    "    xscale='log',\n",
    "    xlabel='Number of Releases',\n",
    "    ylabel='Number of musicians',\n",
    "    # showxticks=''\n",
    ")\n",
    "\n",
    "fig.get_xaxis().set_major_formatter(matplotlib.ticker.ScalarFormatter())\n"
   ]
  }
 ],
 "metadata": {
  "interpreter": {
   "hash": "916dbcbb3f70747c44a77c7bcd40155683ae19c65e1c03b4aa3499c5328201f1"
  },
  "kernelspec": {
   "display_name": "Python 3.8.10 64-bit",
   "language": "python",
   "name": "python3"
  },
  "language_info": {
   "codemirror_mode": {
    "name": "ipython",
    "version": 3
   },
   "file_extension": ".py",
   "mimetype": "text/x-python",
   "name": "python",
   "nbconvert_exporter": "python",
   "pygments_lexer": "ipython3",
   "version": "3.8.10"
  },
  "orig_nbformat": 4
 },
 "nbformat": 4,
 "nbformat_minor": 2
}
