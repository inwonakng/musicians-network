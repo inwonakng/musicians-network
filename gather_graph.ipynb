{
 "cells": [
  {
   "cell_type": "markdown",
   "metadata": {},
   "source": [
    "## Gather the crawled data and create nodes/edges files for each graph"
   ]
  },
  {
   "cell_type": "code",
   "execution_count": 1,
   "metadata": {},
   "outputs": [],
   "source": [
    "import pandas as pd\n",
    "from tqdm.auto import tqdm\n",
    "import os\n",
    "from itertools import combinations\n",
    "\n",
    "base = f'./data/artist_songs'"
   ]
  },
  {
   "cell_type": "markdown",
   "metadata": {},
   "source": [
    "### adding edges for the music network based on their features"
   ]
  },
  {
   "cell_type": "code",
   "execution_count": 2,
   "metadata": {},
   "outputs": [
    {
     "name": "stderr",
     "output_type": "stream",
     "text": [
      "making song network...: 100%|██████████| 22517/22517 [01:59<00:00, 189.03it/s]\n"
     ]
    }
   ],
   "source": [
    "mus_nodes = pd.read_csv(f'./data/data_w_spotify.csv')\n",
    "mus_edges = []\n",
    "label_info = []\n",
    "\n",
    "# features to save along with artist info\n",
    "feature_cols = ['genres','popularity','followers']\n",
    "\n",
    "for vals in tqdm(mus_nodes[['id','name']+feature_cols].values,desc='making song network...'):\n",
    "    a_id,a_name = vals[:2]\n",
    "    features = vals[2:]\n",
    "    f = pd.read_csv(f'{base}/{a_id}/features.csv')\n",
    "    f['owner_id'] = a_id\n",
    "    f['owner_name'] = a_name\n",
    "    label_relations = f[['owner_id','owner_name','labelid','label']]\n",
    "    label_relations = label_relations[(~label_relations.label.isnull()) & (label_relations.label!='[no label]')]\n",
    "    label_relations[feature_cols] = features\n",
    "    label_info += label_relations.values.tolist()\n",
    "    mus_edges+= f[['owner_id','owner_name','id','name','songid','song']].values.tolist()\n",
    "    \n",
    "mus_edges = pd.DataFrame(mus_edges,columns=['id_1','name_1','id_2','name_2','songid','song']).drop_duplicates()\n",
    "mus_edges.reset_index(drop=True,inplace=True)\n",
    "\n",
    "label_info = pd.DataFrame(label_info,\n",
    "                columns=['id','name','labelid','label']+feature_cols).drop_duplicates()\n",
    "label_info.reset_index(drop=True,inplace=True)\n",
    "\n",
    "if not os.path.exists(f'./data/musician-graph'): \n",
    "    os.mkdir(f'./data/musician-graph')\n",
    "mus_nodes.to_csv(f'./data/musician-graph/nodes.csv',index=False)\n",
    "mus_edges.to_csv(f'./data/musician-graph/edges.csv',index=False)"
   ]
  },
  {
   "cell_type": "markdown",
   "metadata": {},
   "source": [
    "### adding edges for the label network based on the musicians."
   ]
  },
  {
   "cell_type": "code",
   "execution_count": 3,
   "metadata": {},
   "outputs": [
    {
     "name": "stderr",
     "output_type": "stream",
     "text": [
      "making label network...: 100%|██████████| 20631/20631 [00:30<00:00, 670.42it/s] \n"
     ]
    }
   ],
   "source": [
    "label_nodes = label_info[['labelid','label']].drop_duplicates()\n",
    "label_nodes.reset_index(drop=True,inplace=True)\n",
    "label_edges = []\n",
    "\n",
    "for (aid,aname),data in tqdm(label_info.groupby(['id','name']),desc='making label network...'): \n",
    "    if aid == 1: continue\n",
    "    artist_features = data[feature_cols].values[0].tolist()\n",
    "    for (lid1,lname1),(lid2,lname2) in combinations(data[['labelid','label']].values,2):\n",
    "        label_edges.append([lid1,lname1,lid2,lname2,aid,aname]+artist_features)\n",
    "\n",
    "label_edges = pd.DataFrame(label_edges,\n",
    "                           columns=['id_1',\n",
    "                                    'name_1',\n",
    "                                    'id_2',\n",
    "                                    'name_2',\n",
    "                                    'artistid',\n",
    "                                    'artist']+[f'artist_{f}' for f in feature_cols])\n",
    "\n",
    "if not os.path.exists(f'./data/label-graph'): \n",
    "    os.mkdir(f'./data/label-graph')\n",
    "label_nodes.to_csv(f'./data/label-graph/nodes.csv',index=False)\n",
    "label_edges.to_csv(f'./data/label-graph/edges.csv',index=False)"
   ]
  },
  {
   "cell_type": "code",
   "execution_count": null,
   "metadata": {},
   "outputs": [],
   "source": []
  }
 ],
 "metadata": {
  "interpreter": {
   "hash": "916dbcbb3f70747c44a77c7bcd40155683ae19c65e1c03b4aa3499c5328201f1"
  },
  "kernelspec": {
   "display_name": "Python 3.8.10 64-bit",
   "language": "python",
   "name": "python3"
  },
  "language_info": {
   "codemirror_mode": {
    "name": "ipython",
    "version": 3
   },
   "file_extension": ".py",
   "mimetype": "text/x-python",
   "name": "python",
   "nbconvert_exporter": "python",
   "pygments_lexer": "ipython3",
   "version": "3.8.10"
  },
  "orig_nbformat": 4
 },
 "nbformat": 4,
 "nbformat_minor": 2
}
