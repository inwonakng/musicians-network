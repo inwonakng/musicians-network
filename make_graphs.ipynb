{
 "cells": [
  {
   "cell_type": "markdown",
   "metadata": {},
   "source": [
    "## For making musician graphs"
   ]
  },
  {
   "cell_type": "code",
   "execution_count": 1,
   "metadata": {},
   "outputs": [
    {
     "name": "stdout",
     "output_type": "stream",
     "text": [
      "reading in data...\n"
     ]
    },
    {
     "name": "stderr",
     "output_type": "stream",
     "text": [
      "adding edges to graph..: 100%|██████████| 321690/321690 [00:00<00:00, 326528.88it/s]\n"
     ]
    },
    {
     "name": "stdout",
     "output_type": "stream",
     "text": [
      "adding eigenvector..\n"
     ]
    }
   ],
   "source": [
    "import pandas as pd\n",
    "import networkx as nx\n",
    "import numpy as np\n",
    "from tqdm.auto import tqdm\n",
    "\n",
    "print('reading in data...')\n",
    "base = f'./data/musician-graph'\n",
    "nodes = pd.read_csv(f'{base}/us_nodes.csv')\n",
    "edges = pd.read_csv(f'{base}/us_edges.csv')\n",
    "\n",
    "G = nx.DiGraph()\n",
    "G.add_edges_from([[a1,a2]for id1,a1,id2,a2,sid,s in tqdm(edges.values,desc='adding edges to graph..')])\n",
    "\n",
    "\n",
    "# add extra features from spotify!\n",
    "for feature in ['popularity','followers','genres']:    \n",
    "    if nodes[feature].dtype == float:\n",
    "        nodes[feature] = nodes[feature].replace(np.nan,0)\n",
    "    vals = dict(nodes[['name',feature]].values)\n",
    "    nx.set_node_attributes(G,vals,feature)\n",
    "\n",
    "# print('adding betweenness..')\n",
    "# bc = nx.betweenness_centrality(G,normalized=True,endpoints=True)\n",
    "# nx.set_node_attributes(G,bc,'betweenness')\n",
    "\n",
    "print('adding eigenvector..')\n",
    "ec = nx.eigenvector_centrality(G)\n",
    "nx.set_node_attributes(G,ec,'eigenvector')\n",
    "\n",
    "nx.write_gml(G,f'{base}/test.gml')\n",
    "nx.write_gexf(G,f'{base}/test.gexf')\n"
   ]
  },
  {
   "cell_type": "markdown",
   "metadata": {},
   "source": [
    "## For making label graphs"
   ]
  },
  {
   "cell_type": "code",
   "execution_count": 25,
   "metadata": {},
   "outputs": [
    {
     "name": "stdout",
     "output_type": "stream",
     "text": [
      "reading in data...\n"
     ]
    },
    {
     "name": "stderr",
     "output_type": "stream",
     "text": [
      "adding edges to graph..: 100%|██████████| 3573166/3573166 [00:07<00:00, 479755.96it/s]\n"
     ]
    }
   ],
   "source": [
    "print('reading in data...')\n",
    "base = f'./data/label-graph'\n",
    "nodes = pd.read_csv(f'{base}/nodes.csv')\n",
    "edges = pd.read_csv(f'{base}/edges.csv')\n",
    "\n",
    "G = nx.Graph()\n",
    "G.add_edges_from([[n1,n2]for n1,n2 in tqdm(edges[['name_1','name_2']].values,desc='adding edges to graph..')])\n",
    "\n",
    "# add extra features from spotify!\n",
    "for feature in edges.columns[edges.columns.str.contains('artist')]:    \n",
    "    if edges[feature].dtype == float:\n",
    "        edges[feature] = edges[feature].replace(np.nan,0)\n",
    "    vals = dict(zip(edges[['name_1','name_2']].to_records(index=False).tolist(),edges[feature].values))\n",
    "\n",
    "    nx.set_edge_attributes(G,vals,feature)\n",
    "\n",
    "# nx.write_gml(G,f'{base}/test.gml')\n",
    "# nx.write_gexf(G,f'{base}/test.gexf')\n"
   ]
  },
  {
   "cell_type": "code",
   "execution_count": 24,
   "metadata": {},
   "outputs": [
    {
     "data": {
      "text/html": [
       "<div>\n",
       "<style scoped>\n",
       "    .dataframe tbody tr th:only-of-type {\n",
       "        vertical-align: middle;\n",
       "    }\n",
       "\n",
       "    .dataframe tbody tr th {\n",
       "        vertical-align: top;\n",
       "    }\n",
       "\n",
       "    .dataframe thead th {\n",
       "        text-align: right;\n",
       "    }\n",
       "</style>\n",
       "<table border=\"1\" class=\"dataframe\">\n",
       "  <thead>\n",
       "    <tr style=\"text-align: right;\">\n",
       "      <th></th>\n",
       "      <th>labelid</th>\n",
       "      <th>label</th>\n",
       "    </tr>\n",
       "  </thead>\n",
       "  <tbody>\n",
       "    <tr>\n",
       "      <th>0</th>\n",
       "      <td>18118</td>\n",
       "      <td>Cash Money Records</td>\n",
       "    </tr>\n",
       "    <tr>\n",
       "      <th>1</th>\n",
       "      <td>100728</td>\n",
       "      <td>Westbury Road Entertainment</td>\n",
       "    </tr>\n",
       "    <tr>\n",
       "      <th>2</th>\n",
       "      <td>40047</td>\n",
       "      <td>Roc Nation</td>\n",
       "    </tr>\n",
       "    <tr>\n",
       "      <th>3</th>\n",
       "      <td>20407</td>\n",
       "      <td>Young Money Entertainment</td>\n",
       "    </tr>\n",
       "    <tr>\n",
       "      <th>4</th>\n",
       "      <td>1010</td>\n",
       "      <td>Def Jam Recordings</td>\n",
       "    </tr>\n",
       "    <tr>\n",
       "      <th>...</th>\n",
       "      <td>...</td>\n",
       "      <td>...</td>\n",
       "    </tr>\n",
       "    <tr>\n",
       "      <th>20401</th>\n",
       "      <td>1102</td>\n",
       "      <td>Misanthropy Records</td>\n",
       "    </tr>\n",
       "    <tr>\n",
       "      <th>20402</th>\n",
       "      <td>197800</td>\n",
       "      <td>2020</td>\n",
       "    </tr>\n",
       "    <tr>\n",
       "      <th>20403</th>\n",
       "      <td>186209</td>\n",
       "      <td>Pyrorex</td>\n",
       "    </tr>\n",
       "    <tr>\n",
       "      <th>20404</th>\n",
       "      <td>21602</td>\n",
       "      <td>Genet Records</td>\n",
       "    </tr>\n",
       "    <tr>\n",
       "      <th>20405</th>\n",
       "      <td>192192</td>\n",
       "      <td>Tear Water Records</td>\n",
       "    </tr>\n",
       "  </tbody>\n",
       "</table>\n",
       "<p>20406 rows × 2 columns</p>\n",
       "</div>"
      ],
      "text/plain": [
       "       labelid                        label\n",
       "0        18118           Cash Money Records\n",
       "1       100728  Westbury Road Entertainment\n",
       "2        40047                   Roc Nation\n",
       "3        20407    Young Money Entertainment\n",
       "4         1010           Def Jam Recordings\n",
       "...        ...                          ...\n",
       "20401     1102          Misanthropy Records\n",
       "20402   197800                         2020\n",
       "20403   186209                      Pyrorex\n",
       "20404    21602                Genet Records\n",
       "20405   192192           Tear Water Records\n",
       "\n",
       "[20406 rows x 2 columns]"
      ]
     },
     "execution_count": 24,
     "metadata": {},
     "output_type": "execute_result"
    }
   ],
   "source": [
    "nodes"
   ]
  }
 ],
 "metadata": {
  "interpreter": {
   "hash": "916dbcbb3f70747c44a77c7bcd40155683ae19c65e1c03b4aa3499c5328201f1"
  },
  "kernelspec": {
   "display_name": "Python 3.8.10 64-bit",
   "language": "python",
   "name": "python3"
  },
  "language_info": {
   "codemirror_mode": {
    "name": "ipython",
    "version": 3
   },
   "file_extension": ".py",
   "mimetype": "text/x-python",
   "name": "python",
   "nbconvert_exporter": "python",
   "pygments_lexer": "ipython3",
   "version": "3.8.10"
  },
  "orig_nbformat": 4
 },
 "nbformat": 4,
 "nbformat_minor": 2
}
